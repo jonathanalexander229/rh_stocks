{
 "cells": [
  {
   "cell_type": "code",
   "execution_count": 5,
   "metadata": {},
   "outputs": [
    {
     "name": "stdout",
     "output_type": "stream",
     "text": [
      "Requirement already satisfied: robin_stocks in /home/clutchcoder/working/.venv/lib/python3.10/site-packages (3.1.0)\n",
      "Requirement already satisfied: openpyxl in /home/clutchcoder/working/.venv/lib/python3.10/site-packages (3.1.5)\n",
      "Requirement already satisfied: pandas in /home/clutchcoder/working/.venv/lib/python3.10/site-packages (2.2.2)\n",
      "Requirement already satisfied: requests in /home/clutchcoder/working/.venv/lib/python3.10/site-packages (from robin_stocks) (2.32.3)\n",
      "Requirement already satisfied: pyotp in /home/clutchcoder/working/.venv/lib/python3.10/site-packages (from robin_stocks) (2.9.0)\n",
      "Requirement already satisfied: python-dotenv in /home/clutchcoder/working/.venv/lib/python3.10/site-packages (from robin_stocks) (1.0.1)\n",
      "Requirement already satisfied: cryptography in /home/clutchcoder/working/.venv/lib/python3.10/site-packages (from robin_stocks) (43.0.0)\n",
      "Requirement already satisfied: et-xmlfile in /home/clutchcoder/working/.venv/lib/python3.10/site-packages (from openpyxl) (1.1.0)\n",
      "Requirement already satisfied: numpy>=1.22.4 in /home/clutchcoder/working/.venv/lib/python3.10/site-packages (from pandas) (2.0.1)\n",
      "Requirement already satisfied: python-dateutil>=2.8.2 in /home/clutchcoder/working/.venv/lib/python3.10/site-packages (from pandas) (2.9.0.post0)\n",
      "Requirement already satisfied: pytz>=2020.1 in /home/clutchcoder/working/.venv/lib/python3.10/site-packages (from pandas) (2024.1)\n",
      "Requirement already satisfied: tzdata>=2022.7 in /home/clutchcoder/working/.venv/lib/python3.10/site-packages (from pandas) (2024.1)\n",
      "Requirement already satisfied: six>=1.5 in /home/clutchcoder/working/.venv/lib/python3.10/site-packages (from python-dateutil>=2.8.2->pandas) (1.16.0)\n",
      "Requirement already satisfied: cffi>=1.12 in /home/clutchcoder/working/.venv/lib/python3.10/site-packages (from cryptography->robin_stocks) (1.17.0)\n",
      "Requirement already satisfied: charset-normalizer<4,>=2 in /home/clutchcoder/working/.venv/lib/python3.10/site-packages (from requests->robin_stocks) (3.3.2)\n",
      "Requirement already satisfied: idna<4,>=2.5 in /home/clutchcoder/working/.venv/lib/python3.10/site-packages (from requests->robin_stocks) (3.7)\n",
      "Requirement already satisfied: urllib3<3,>=1.21.1 in /home/clutchcoder/working/.venv/lib/python3.10/site-packages (from requests->robin_stocks) (2.2.2)\n",
      "Requirement already satisfied: certifi>=2017.4.17 in /home/clutchcoder/working/.venv/lib/python3.10/site-packages (from requests->robin_stocks) (2024.7.4)\n",
      "Requirement already satisfied: pycparser in /home/clutchcoder/working/.venv/lib/python3.10/site-packages (from cffi>=1.12->cryptography->robin_stocks) (2.22)\n",
      "Note: you may need to restart the kernel to use updated packages.\n"
     ]
    }
   ],
   "source": [
    "%pip install robin_stocks openpyxl pandas"
   ]
  },
  {
   "cell_type": "markdown",
   "metadata": {},
   "source": [
    "this is an example from this github: https://github.com/dwei-cn/python-tricks/blob/main/robinhood_hack.ipynb\n",
    "\n",
    "TODO: limit to a date range to "
   ]
  },
  {
   "cell_type": "code",
   "execution_count": 104,
   "metadata": {},
   "outputs": [
    {
     "name": "stdout",
     "output_type": "stream",
     "text": [
      "Found Additional pages.\n",
      "Loading page 2 ...\n",
      "Loading page 3 ...\n",
      "Loading page 4 ...\n",
      "Loading page 5 ...\n",
      "Loading page 6 ...\n",
      "     chain_symbol   state                   created_at  quantity direction  \\\n",
      "0            UVXY  filled  2024-08-02T19:54:47.321337Z       1.0     debit   \n",
      "1            SMCI  filled  2024-07-25T18:48:12.477405Z       1.0     debit   \n",
      "2             SPY  filled  2024-07-22T19:30:17.299152Z       1.0    credit   \n",
      "3             SPY  filled  2024-07-19T15:51:18.251325Z       1.0     debit   \n",
      "4             IWM  filled  2024-07-19T13:41:54.847198Z       1.0    credit   \n",
      "...           ...     ...                          ...       ...       ...   \n",
      "1167         AAPL  filled  2019-04-24T19:12:53.837640Z       2.0    credit   \n",
      "1168         AAPL  filled  2019-04-24T19:12:28.838015Z       2.0     debit   \n",
      "1182          SPY  filled  2019-04-23T16:02:42.691669Z       2.0    credit   \n",
      "1184          SPY  filled  2019-04-23T15:39:59.901637Z       2.0     debit   \n",
      "1195         AMRS  filled  2019-04-19T02:39:47.074865Z      10.0     debit   \n",
      "\n",
      "      premium opening_strategy closing_strategy  profit  \n",
      "0       100.0         long_put             None  -100.0  \n",
      "1       265.0         long_put             None  -265.0  \n",
      "2         1.0             None         long_put     1.0  \n",
      "3       217.0         long_put             None  -217.0  \n",
      "4        63.0             None         long_put    63.0  \n",
      "...       ...              ...              ...     ...  \n",
      "1167    293.0             None         long_put   586.0  \n",
      "1168    390.0             None        short_put  -780.0  \n",
      "1182     87.0             None        long_call   174.0  \n",
      "1184     69.0        long_call             None  -138.0  \n",
      "1195     60.0        long_call             None  -600.0  \n",
      "\n",
      "[561 rows x 9 columns]\n",
      "-8545.0\n"
     ]
    }
   ],
   "source": [
    "import robin_stocks.robinhood as r\n",
    "import pandas as pd\n",
    "\n",
    "email = input(\"Please enter your Robinhood email address: \")\n",
    "login = r.login(email)\n",
    "\n",
    "# Get all option orders\n",
    "#all_orders = r.orders.get_all_option_orders()\n",
    "option_trades = pd.DataFrame(r.get_all_option_orders())\n",
    "option_trades = option_trades[~(\n",
    "    option_trades['opening_strategy'].str.contains('spread', case=False, na=False) | \n",
    "    option_trades['closing_strategy'].str.contains('spread', case=False, na=False) |\n",
    "    option_trades['opening_strategy'].str.contains('iron', case=False, na=False) | \n",
    "    option_trades['closing_strategy'].str.contains('iron', case=False, na=False)\n",
    ")]\n",
    "\n",
    "option_trades_filled = option_trades[[\n",
    "    #'account_number', \n",
    "    'chain_symbol', 'state', 'created_at', 'quantity', 'direction', 'premium', 'opening_strategy', 'closing_strategy'\n",
    "    ]]\n",
    "\n",
    "\n",
    "option_trades_filled = option_trades_filled[option_trades_filled['state'] == 'filled']\n",
    "\n",
    "# option_trades_filled\n",
    "option_trades_filled['premium'] = pd.to_numeric(option_trades_filled['premium'], errors='coerce')\n",
    "option_trades_filled['quantity'] = pd.to_numeric(option_trades_filled['quantity'], errors='coerce')\n",
    "\n",
    "option_trades_filled['premium'].fillna(0)\n",
    "option_trades_filled['quantity'].fillna(0)\n",
    "\n",
    "option_trades_filled['profit'] = option_trades_filled.apply(lambda x: float(x['premium']) * float(x['quantity']) if x['direction'] == 'credit' else -1 * float(x['premium']) * float(x['quantity']),\n",
    "                           axis = 1)\n",
    "\n",
    "print(option_trades_filled)\n",
    "     \n",
    "print(option_trades_filled['profit'].sum())\n"
   ]
  },
  {
   "cell_type": "code",
   "execution_count": 99,
   "metadata": {},
   "outputs": [
    {
     "name": "stdout",
     "output_type": "stream",
     "text": [
      "Found Additional pages.\n",
      "Loading page 2 ...\n",
      "Loading page 3 ...\n",
      "Loading page 4 ...\n",
      "Loading page 5 ...\n",
      "Loading page 6 ...\n",
      "4655.0\n"
     ]
    }
   ],
   "source": [
    "import robin_stocks.robinhood as r\n",
    "import pandas as pd\n",
    "\n",
    "email = input(\"Please enter your Robinhood email address: \")\n",
    "login = r.login(email)\n",
    "\n",
    "# Get all option orders\n",
    "#all_orders = r.orders.get_all_option_orders()\n",
    "option_trades = pd.DataFrame(r.get_all_option_orders())\n",
    "option_trades = option_trades[option_trades['opening_strategy'].str.contains('spread', case=False, na=False) | option_trades['closing_strategy'].str.contains('spread', case=False, na=False)\n",
    "       | option_trades['opening_strategy'].str.contains('iron', case=False, na=False) | option_trades['closing_strategy'].str.contains('iron', case=False, na=False)]\n",
    "\n",
    "option_trades_filled = option_trades[[\n",
    "    #'account_number', \n",
    "    'chain_symbol', 'state', 'created_at', 'quantity', 'direction', 'premium', 'opening_strategy', 'closing_strategy'\n",
    "    ]]\n",
    "\n",
    "option_trades_filled = option_trades_filled[option_trades_filled['state'] == 'filled'].sort_values(by = 'chain_symbol')\n",
    "\n",
    "# Calculate 'profit'\n",
    "option_trades_filled['profit'] = option_trades_filled.apply(\n",
    "    lambda x: float(x['premium']) * float(x['quantity']) if x['direction'] == 'credit' else -1 * float(x['premium']) * float(x['quantity']),\n",
    "    axis=1\n",
    ")\n",
    "\n",
    "# Display the DataFrame\n",
    "option_trades_filled\n",
    "\n",
    "# Sum of 'profit'\n",
    "total_profit = option_trades_filled['profit'].sum()\n",
    "print(total_profit)"
   ]
  },
  {
   "cell_type": "code",
   "execution_count": 3,
   "metadata": {},
   "outputs": [
    {
     "name": "stdout",
     "output_type": "stream",
     "text": [
      "Found Additional pages.\n",
      "Loading page 2 ...\n",
      "Loading page 3 ...\n",
      "Loading page 4 ...\n",
      "Loading page 5 ...\n",
      "Loading page 6 ...\n"
     ]
    }
   ],
   "source": [
    "\n",
    "r.export_completed_option_orders(\"./\", \"rh_options.csv\")"
   ]
  },
  {
   "cell_type": "code",
   "execution_count": 12,
   "metadata": {},
   "outputs": [
    {
     "name": "stdout",
     "output_type": "stream",
     "text": [
      "-51.030000000000015\n"
     ]
    }
   ],
   "source": [
    "import pandas as pd\n",
    "\n",
    "# Load your spreadsheet\n",
    "df = pd.read_csv('rh_options.csv')\n",
    "\n",
    "# Convert 'order_created_at' to datetime\n",
    "df['order_created_at'] = pd.to_datetime(df['order_created_at'])\n",
    "\n",
    "# Filter the DataFrame to only include rows starting from March 1st\n",
    "df = df[df['order_created_at'] >= '2024-01-01']\n",
    "\n",
    "df['P&L'] = df.apply(lambda row: -row['price'] * row['processed_quantity'] if row['side'] == 'buy' else row['price'] * row['processed_quantity'], axis=1)\n",
    "\n",
    "# Summarize P&L for each option symbol\n",
    "summary = df.groupby('chain_symbol')['P&L'].sum().reset_index()\n",
    "\n",
    "# Calculate total P&L\n",
    "total_pnl = df['P&L'].sum()\n",
    "\n",
    "# Print the summary\n",
    "print(total_pnl)\n"
   ]
  },
  {
   "cell_type": "markdown",
   "metadata": {},
   "source": [
    "This next cell collects and groups spread orders"
   ]
  },
  {
   "cell_type": "code",
   "execution_count": 118,
   "metadata": {},
   "outputs": [
    {
     "name": "stdout",
     "output_type": "stream",
     "text": [
      "-10468.0\n"
     ]
    }
   ],
   "source": [
    "import pandas as pd\n",
    "import numpy as np\n",
    "\n",
    "# Load your spreadsheet\n",
    "df = pd.read_csv('rh_options.csv')\n",
    "\n",
    "# Convert 'order_created_at' to datetime\n",
    "df['order_created_at'] = pd.to_datetime(df['order_created_at'])\n",
    "\n",
    "# Filter the DataFrame to only include rows starting from March 1st\n",
    "\n",
    "# Filter the DataFrame to include rows where either 'opening_strategy' or 'closing_strategy' contains 'spread'\n",
    "df = df[df['opening_strategy'].str.contains('spread', case=False, na=False) | df['closing_strategy'].str.contains('spread', case=False, na=False)\n",
    "   | df['opening_strategy'].str.contains('iron', case=False, na=False) | df['closing_strategy'].str.contains('iron', case=False, na=False)]\n",
    "\n",
    "# Group by 'order_created_at' and 'opening_strategy'\n",
    "grouped = df.groupby(['order_created_at'])\n",
    "\n",
    "# Define a function to aggregate the strike prices\n",
    "def aggregate_strike_prices(group):\n",
    "    strikes = [f\"{'+' if row['side'] == 'buy' else '-'}{row['strike_price']}\" for _, row in group.iterrows()]\n",
    "    return '/'.join(strikes)\n",
    "\n",
    "\n",
    "# Apply the custom aggregation function\n",
    "aggregated_df = grouped.apply(lambda group: pd.Series({\n",
    "    'chain_symbol': group['chain_symbol'].iloc[0],\n",
    "    'expiration_date': group['expiration_date'].iloc[0],\n",
    "    'strike_price': aggregate_strike_prices(group),\n",
    "    'option_type': group['option_type'].iloc[0],\n",
    "    'side': group['side'].iloc[0],\n",
    "    'direction': group['direction'].iloc[0],\n",
    "    'order_quantity': group['order_quantity'].sum(),\n",
    "    'order_type': group['order_type'].iloc[0],\n",
    "    'opening_strategy': group['opening_strategy'].iloc[0],\n",
    "    'closing_strategy': group['closing_strategy'].iloc[0],\n",
    "    'price': group['price'].iloc[0],\n",
    "    'processed_quantity': group['processed_quantity'].sum()\n",
    "}), include_groups=False)\n",
    "\n",
    "# Sort the DataFrame so the most recent date is at the top\n",
    "#aggregated_df = aggregated_df.sort_values(by='order_created_at', ascending=False)\n",
    "\n",
    "# Add a new column 'cost' which is the product of 'price' and 'processed_quantity'\n",
    "aggregated_df['cost'] = aggregated_df['price'] * aggregated_df['processed_quantity'] * 100\n",
    "\n",
    "aggregated_df['cost'] = aggregated_df.apply(lambda x: float(x['cost']) if x['direction'] == 'debit' else -1 * float(x['cost']),\n",
    "    axis = 1)  \n",
    "print(aggregated_df['cost'].sum())\n",
    "\n",
    "aggregated_df.to_csv('rh_option_spreads.csv', index=False)"
   ]
  },
  {
   "cell_type": "markdown",
   "metadata": {},
   "source": [
    "This cell collects all non spread orders"
   ]
  },
  {
   "cell_type": "code",
   "execution_count": 124,
   "metadata": {},
   "outputs": [
    {
     "name": "stdout",
     "output_type": "stream",
     "text": [
      "-8556.0\n"
     ]
    }
   ],
   "source": [
    "import pandas as pd\n",
    "import numpy as np\n",
    "\n",
    "# Load your spreadsheet\n",
    "df = pd.read_csv('rh_options.csv')\n",
    "\n",
    "# Convert 'order_created_at' to datetime\n",
    "df['order_created_at'] = pd.to_datetime(df['order_created_at'])\n",
    "\n",
    "# Filter the DataFrame to only include rows starting from March 1st\n",
    "\n",
    "# Filter the DataFrame to include rows where either 'opening_strategy' or 'closing_strategy' contains 'spread'\n",
    "df = df[~(df['opening_strategy'].str.contains('spread', case=False, na=False) | df['closing_strategy'].str.contains('spread', case=False, na=False)\n",
    "          | df['opening_strategy'].str.contains('iron', case=False, na=False) | df['closing_strategy'].str.contains('iron', case=False, na=False))]\n",
    "\n",
    "# Group by 'order_created_at' and 'opening_strategy'\n",
    "grouped = df.groupby(['order_created_at'])\n",
    "\n",
    "# Apply the custom aggregation function\n",
    "aggregated_df = grouped.apply(lambda group: pd.Series({\n",
    "    'chain_symbol': group['chain_symbol'].iloc[0],\n",
    "    'expiration_date': group['expiration_date'].iloc[0],\n",
    "    'strike_price': group['strike_price'].iloc[0],\n",
    "    'option_type': group['option_type'].iloc[0],\n",
    "    'side': group['side'].iloc[0],\n",
    "    'direction': group['direction'].iloc[0],\n",
    "    'order_quantity': group['order_quantity'].sum(),\n",
    "    'order_type': group['order_type'].iloc[0],\n",
    "    'opening_strategy': group['opening_strategy'].iloc[0],\n",
    "    'closing_strategy': group['closing_strategy'].iloc[0],\n",
    "    'price': group['price'].iloc[0],\n",
    "    'processed_quantity': group['processed_quantity'].sum()\n",
    "}), include_groups=False).reset_index()\n",
    "\n",
    "# Sort the DataFrame so the most recent date is at the top\n",
    "#aggregated_df = aggregated_df.sort_values(by='order_created_at', ascending=False)\n",
    "\n",
    "# Add a new column 'cost' which is the product of 'price' and 'processed_quantity'\n",
    "aggregated_df['cost'] = aggregated_df['price'] * aggregated_df['processed_quantity'] * 100\n",
    "\n",
    "aggregated_df['cost'] = aggregated_df.apply(lambda x: float(x['cost']) if x['direction'] == 'credit' else -1 * float(x['cost']),\n",
    "   axis = 1)  \n",
    "print(aggregated_df['cost'].sum())\n",
    "\n",
    "aggregated_df.to_csv('rh_option_not_spreads.csv', index=False)"
   ]
  },
  {
   "cell_type": "code",
   "execution_count": 68,
   "metadata": {},
   "outputs": [
    {
     "name": "stdout",
     "output_type": "stream",
     "text": [
      "Found Additional pages.\n",
      "Loading page 2 ...\n",
      "Loading page 3 ...\n",
      "Loading page 4 ...\n",
      "Loading page 5 ...\n",
      "Loading page 6 ...\n"
     ]
    }
   ],
   "source": [
    "import pandas as pd\n",
    "\n",
    "\n",
    "# Load your spreadsheet\n",
    "#df = pd.read_csv('option_orders_Mar-09-2024.csv')\n",
    "\n",
    "all_orders = r.orders.get_all_option_orders()\n",
    "df = pd.DataFrame(all_orders)\n",
    "\n",
    "# Convert 'order_created_at' to datetime\n",
    "df['created_at'] = pd.to_datetime(df['created_at'])\n",
    "\n",
    "# Filter the DataFrame to only include rows starting from March 1st\n",
    "#df = df[df['order_created_at'] >= '2019-02-12']\n",
    "\n",
    "#df.loc[df['side'] == 'buy', 'strike_price'] = '+' + df['strike_price'].astype(str)\n",
    "#df.loc[df['side'] == 'sell', 'strike_price'] = '-' + df['strike_price'].astype(str)\n",
    "\n",
    "# Group the DataFrame by 'order_created_at'\n",
    "# grouped = df.groupby('created_at')\n",
    "# # Define a function to combine values with a '/' character if they are not all the same\n",
    "# def combine_values(series):\n",
    "#     unique_values = series.unique()\n",
    "#     if len(unique_values) == 1:\n",
    "#         return unique_values[0]\n",
    "#     else:\n",
    "#         return ' / '.join(unique_values)\n",
    "\n",
    "# # Apply the function to all columns\n",
    "# combined_df = grouped.agg(combine_values)\n",
    "\n",
    "# Reset the index of the combined DataFrame\n",
    "# combined_df.reset_index(inplace=True)\n",
    "# combined_df.sort_values(by=['chain_symbol','order_created_at'], ascending=False, inplace=True)\n",
    "\n",
    "# Save the combined DataFrame to a new CSV file\n",
    "df.to_csv('combined.csv', index=False)"
   ]
  },
  {
   "cell_type": "code",
   "execution_count": null,
   "metadata": {},
   "outputs": [],
   "source": []
  },
  {
   "cell_type": "markdown",
   "metadata": {},
   "source": [
    "lets seperate trades before trying to parse them"
   ]
  },
  {
   "cell_type": "code",
   "execution_count": 4,
   "metadata": {},
   "outputs": [],
   "source": [
    "import pandas as pd\n",
    "\n",
    "# Load your spreadsheet\n",
    "df = pd.read_csv('rh_options.csv')\n",
    "\n",
    "# Convert 'order_created_at' to datetime\n",
    "df['order_created_at'] = pd.to_datetime(df['order_created_at'])\n",
    "\n",
    "# Filter the DataFrame to only include rows starting from March 1st\n",
    "#df = df[df['order_created_at'] >= '2024-03-01']\n",
    "\n",
    "#df['abs_strike_price'] = df['strike_price'].abs()\n",
    "\n",
    "#df.loc[df['side'] == 'buy', 'strike_price'] = '+' + df['strike_price'].astype(str)\n",
    "#df.loc[df['side'] == 'sell', 'strike_price'] = '-' + df['strike_price'].astype(str)\n",
    "\n",
    "#Group the DataFrame by 'order_created_at'\n",
    "grouped = df.groupby('order_created_at')\n",
    "# Define a function to combine values with a '/' character if they are not all the same\n",
    "def combine_values(series):\n",
    "    if series.name in 'strike_price':\n",
    "        unique_values = series.unique()\n",
    "        if len(unique_values) == 1:\n",
    "            return unique_values[0]\n",
    "        else:\n",
    "            unique_values = [float(i) for i in unique_values]\n",
    "            # Sort the unique values in descending order before joining\n",
    "            sorted_values = sorted(unique_values, key=abs, reverse=True)\n",
    "            return ' / '.join(map(str, sorted_values))\n",
    "    else:\n",
    "        return series.iloc[0]\n",
    "\n",
    "# Apply the function to all columns\n",
    "combined_df = grouped.agg(combine_values)\n",
    "\n",
    "# Reset the index of the combined DataFrame\n",
    "combined_df.reset_index(inplace=True)\n",
    "combined_df.sort_values(by=['chain_symbol'], inplace=True)\n",
    "\n",
    "# Filter the DataFrame to only include rows where 'chain_symbol' is 'NVDA'\n",
    "#filtered_df = combined_df[combined_df['chain_symbol'] == 'NVDA']\n",
    "\n",
    "# Save the filtered DataFrame to a new CSV file\n",
    "combined_df.to_csv('combined.csv', index=False)\n"
   ]
  },
  {
   "cell_type": "code",
   "execution_count": null,
   "metadata": {},
   "outputs": [],
   "source": []
  }
 ],
 "metadata": {
  "kernelspec": {
   "display_name": "Python 3",
   "language": "python",
   "name": "python3"
  },
  "language_info": {
   "codemirror_mode": {
    "name": "ipython",
    "version": 3
   },
   "file_extension": ".py",
   "mimetype": "text/x-python",
   "name": "python",
   "nbconvert_exporter": "python",
   "pygments_lexer": "ipython3",
   "version": "3.10.12"
  }
 },
 "nbformat": 4,
 "nbformat_minor": 2
}
