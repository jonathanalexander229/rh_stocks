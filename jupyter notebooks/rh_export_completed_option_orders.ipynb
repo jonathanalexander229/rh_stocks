{
 "cells": [
  {
   "cell_type": "markdown",
   "metadata": {},
   "source": [
    "This notebook will use the robin_stocks.robinhood.export functions which will write all options orders to a csv file and parse them to calculate the total cost of the options orders.  It will also get all the events for the options orders and calculate the total cost of the options events.  The sum of the options orders and events costs will give the total cost of the options."
   ]
  },
  {
   "cell_type": "markdown",
   "metadata": {},
   "source": [
    "Install the required libraries"
   ]
  },
  {
   "cell_type": "code",
   "execution_count": 1,
   "metadata": {},
   "outputs": [
    {
     "name": "stdout",
     "output_type": "stream",
     "text": [
      "Requirement already satisfied: robin_stocks in /Users/clutchcoder/working/venv/lib/python3.9/site-packages (3.0.6)\n",
      "Requirement already satisfied: pandas in /Users/clutchcoder/working/venv/lib/python3.9/site-packages (2.2.1)\n",
      "Requirement already satisfied: numpy in /Users/clutchcoder/working/venv/lib/python3.9/site-packages (1.26.4)\n",
      "Requirement already satisfied: ipykernel in /Users/clutchcoder/working/venv/lib/python3.9/site-packages (6.29.3)\n",
      "Requirement already satisfied: requests in /Users/clutchcoder/working/venv/lib/python3.9/site-packages (from robin_stocks) (2.31.0)\n",
      "Requirement already satisfied: pyotp in /Users/clutchcoder/working/venv/lib/python3.9/site-packages (from robin_stocks) (2.9.0)\n",
      "Requirement already satisfied: python-dotenv in /Users/clutchcoder/working/venv/lib/python3.9/site-packages (from robin_stocks) (1.0.1)\n",
      "Requirement already satisfied: cryptography in /Users/clutchcoder/working/venv/lib/python3.9/site-packages (from robin_stocks) (42.0.5)\n",
      "Requirement already satisfied: python-dateutil>=2.8.2 in /Users/clutchcoder/working/venv/lib/python3.9/site-packages (from pandas) (2.9.0.post0)\n",
      "Requirement already satisfied: pytz>=2020.1 in /Users/clutchcoder/working/venv/lib/python3.9/site-packages (from pandas) (2024.1)\n",
      "Requirement already satisfied: tzdata>=2022.7 in /Users/clutchcoder/working/venv/lib/python3.9/site-packages (from pandas) (2024.1)\n",
      "Requirement already satisfied: appnope in /Users/clutchcoder/working/venv/lib/python3.9/site-packages (from ipykernel) (0.1.4)\n",
      "Requirement already satisfied: comm>=0.1.1 in /Users/clutchcoder/working/venv/lib/python3.9/site-packages (from ipykernel) (0.2.2)\n",
      "Requirement already satisfied: debugpy>=1.6.5 in /Users/clutchcoder/working/venv/lib/python3.9/site-packages (from ipykernel) (1.8.1)\n",
      "Requirement already satisfied: ipython>=7.23.1 in /Users/clutchcoder/working/venv/lib/python3.9/site-packages (from ipykernel) (8.18.1)\n",
      "Requirement already satisfied: jupyter-client>=6.1.12 in /Users/clutchcoder/working/venv/lib/python3.9/site-packages (from ipykernel) (8.6.1)\n",
      "Requirement already satisfied: jupyter-core!=5.0.*,>=4.12 in /Users/clutchcoder/working/venv/lib/python3.9/site-packages (from ipykernel) (5.7.2)\n",
      "Requirement already satisfied: matplotlib-inline>=0.1 in /Users/clutchcoder/working/venv/lib/python3.9/site-packages (from ipykernel) (0.1.6)\n",
      "Requirement already satisfied: nest-asyncio in /Users/clutchcoder/working/venv/lib/python3.9/site-packages (from ipykernel) (1.6.0)\n",
      "Requirement already satisfied: packaging in /Users/clutchcoder/working/venv/lib/python3.9/site-packages (from ipykernel) (24.0)\n",
      "Requirement already satisfied: psutil in /Users/clutchcoder/working/venv/lib/python3.9/site-packages (from ipykernel) (5.9.8)\n",
      "Requirement already satisfied: pyzmq>=24 in /Users/clutchcoder/working/venv/lib/python3.9/site-packages (from ipykernel) (25.1.2)\n",
      "Requirement already satisfied: tornado>=6.1 in /Users/clutchcoder/working/venv/lib/python3.9/site-packages (from ipykernel) (6.4)\n",
      "Requirement already satisfied: traitlets>=5.4.0 in /Users/clutchcoder/working/venv/lib/python3.9/site-packages (from ipykernel) (5.14.2)\n",
      "Requirement already satisfied: decorator in /Users/clutchcoder/working/venv/lib/python3.9/site-packages (from ipython>=7.23.1->ipykernel) (5.1.1)\n",
      "Requirement already satisfied: jedi>=0.16 in /Users/clutchcoder/working/venv/lib/python3.9/site-packages (from ipython>=7.23.1->ipykernel) (0.19.1)\n",
      "Requirement already satisfied: prompt-toolkit<3.1.0,>=3.0.41 in /Users/clutchcoder/working/venv/lib/python3.9/site-packages (from ipython>=7.23.1->ipykernel) (3.0.43)\n",
      "Requirement already satisfied: pygments>=2.4.0 in /Users/clutchcoder/working/venv/lib/python3.9/site-packages (from ipython>=7.23.1->ipykernel) (2.17.2)\n",
      "Requirement already satisfied: stack-data in /Users/clutchcoder/working/venv/lib/python3.9/site-packages (from ipython>=7.23.1->ipykernel) (0.6.3)\n",
      "Requirement already satisfied: typing-extensions in /Users/clutchcoder/working/venv/lib/python3.9/site-packages (from ipython>=7.23.1->ipykernel) (4.10.0)\n",
      "Requirement already satisfied: exceptiongroup in /Users/clutchcoder/working/venv/lib/python3.9/site-packages (from ipython>=7.23.1->ipykernel) (1.2.0)\n",
      "Requirement already satisfied: pexpect>4.3 in /Users/clutchcoder/working/venv/lib/python3.9/site-packages (from ipython>=7.23.1->ipykernel) (4.9.0)\n",
      "Requirement already satisfied: importlib-metadata>=4.8.3 in /Users/clutchcoder/working/venv/lib/python3.9/site-packages (from jupyter-client>=6.1.12->ipykernel) (7.0.2)\n",
      "Requirement already satisfied: platformdirs>=2.5 in /Users/clutchcoder/working/venv/lib/python3.9/site-packages (from jupyter-core!=5.0.*,>=4.12->ipykernel) (4.2.0)\n",
      "Requirement already satisfied: six>=1.5 in /Users/clutchcoder/working/venv/lib/python3.9/site-packages (from python-dateutil>=2.8.2->pandas) (1.16.0)\n",
      "Requirement already satisfied: cffi>=1.12 in /Users/clutchcoder/working/venv/lib/python3.9/site-packages (from cryptography->robin_stocks) (1.16.0)\n",
      "Requirement already satisfied: charset-normalizer<4,>=2 in /Users/clutchcoder/working/venv/lib/python3.9/site-packages (from requests->robin_stocks) (3.3.2)\n",
      "Requirement already satisfied: idna<4,>=2.5 in /Users/clutchcoder/working/venv/lib/python3.9/site-packages (from requests->robin_stocks) (3.6)\n",
      "Requirement already satisfied: urllib3<3,>=1.21.1 in /Users/clutchcoder/working/venv/lib/python3.9/site-packages (from requests->robin_stocks) (1.26.6)\n",
      "Requirement already satisfied: certifi>=2017.4.17 in /Users/clutchcoder/working/venv/lib/python3.9/site-packages (from requests->robin_stocks) (2024.2.2)\n",
      "Requirement already satisfied: pycparser in /Users/clutchcoder/working/venv/lib/python3.9/site-packages (from cffi>=1.12->cryptography->robin_stocks) (2.21)\n",
      "Requirement already satisfied: zipp>=0.5 in /Users/clutchcoder/working/venv/lib/python3.9/site-packages (from importlib-metadata>=4.8.3->jupyter-client>=6.1.12->ipykernel) (3.18.1)\n",
      "Requirement already satisfied: parso<0.9.0,>=0.8.3 in /Users/clutchcoder/working/venv/lib/python3.9/site-packages (from jedi>=0.16->ipython>=7.23.1->ipykernel) (0.8.3)\n",
      "Requirement already satisfied: ptyprocess>=0.5 in /Users/clutchcoder/working/venv/lib/python3.9/site-packages (from pexpect>4.3->ipython>=7.23.1->ipykernel) (0.7.0)\n",
      "Requirement already satisfied: wcwidth in /Users/clutchcoder/working/venv/lib/python3.9/site-packages (from prompt-toolkit<3.1.0,>=3.0.41->ipython>=7.23.1->ipykernel) (0.2.13)\n",
      "Requirement already satisfied: executing>=1.2.0 in /Users/clutchcoder/working/venv/lib/python3.9/site-packages (from stack-data->ipython>=7.23.1->ipykernel) (2.0.1)\n",
      "Requirement already satisfied: asttokens>=2.1.0 in /Users/clutchcoder/working/venv/lib/python3.9/site-packages (from stack-data->ipython>=7.23.1->ipykernel) (2.4.1)\n",
      "Requirement already satisfied: pure-eval in /Users/clutchcoder/working/venv/lib/python3.9/site-packages (from stack-data->ipython>=7.23.1->ipykernel) (0.2.2)\n",
      "\n",
      "\u001b[1m[\u001b[0m\u001b[34;49mnotice\u001b[0m\u001b[1;39;49m]\u001b[0m\u001b[39;49m A new release of pip is available: \u001b[0m\u001b[31;49m24.0\u001b[0m\u001b[39;49m -> \u001b[0m\u001b[32;49m24.2\u001b[0m\n",
      "\u001b[1m[\u001b[0m\u001b[34;49mnotice\u001b[0m\u001b[1;39;49m]\u001b[0m\u001b[39;49m To update, run: \u001b[0m\u001b[32;49mpip install --upgrade pip\u001b[0m\n",
      "Note: you may need to restart the kernel to use updated packages.\n"
     ]
    }
   ],
   "source": [
    "%pip install robin_stocks pandas numpy ipykernel"
   ]
  },
  {
   "cell_type": "markdown",
   "metadata": {},
   "source": [
    "Log on to the robinhood API endpoint, and create the output directory if it doesn't exist"
   ]
  },
  {
   "cell_type": "code",
   "execution_count": 2,
   "metadata": {},
   "outputs": [],
   "source": [
    "import robin_stocks.robinhood as r\n",
    "import pandas as pd\n",
    "import os  \n",
    "# Prompt for email address\n",
    "email = input(\"Please enter your Robinhood email address: \")\n",
    "\n",
    "login = r.login(email)\n",
    "\n",
    "# Ensure the output directory exists\n",
    "output_dir = '../output'\n",
    "if not os.path.exists(output_dir):\n",
    "    os.makedirs(output_dir) \n"
   ]
  },
  {
   "cell_type": "markdown",
   "metadata": {},
   "source": [
    "Get all the options orders using the export_completed_option_orders function."
   ]
  },
  {
   "cell_type": "code",
   "execution_count": 3,
   "metadata": {},
   "outputs": [
    {
     "name": "stdout",
     "output_type": "stream",
     "text": [
      "Found Additional pages.\n",
      "Loading page 2 ...\n",
      "Loading page 3 ...\n",
      "Loading page 4 ...\n",
      "Loading page 5 ...\n",
      "Loading page 6 ...\n",
      "Loading page 7 ...\n"
     ]
    }
   ],
   "source": [
    "# # Get all option orders\n",
    "r.export_completed_option_orders('/', file_name='../output/options_output.csv')"
   ]
  },
  {
   "cell_type": "markdown",
   "metadata": {},
   "source": [
    "This groups spread order by order_created_at and then calculates total cost of all the option orders based on debit and credit direction.  Spreads orders returned from the api are listed multiple times. For example if there is a spread order with 2 buys and 2 sells, a total of 4 orders will be listed with the total cost of the spread, not the actual respective order leg costs.  So we group the spreads by order_created_date and pull the spread order cost once to get accurate costs.\n",
    "\n",
    "There is some code commented out here as part of an attempt to pair the opening and closing orders, and may continue that at some point but for now this appears to correctly calculate costs "
   ]
  },
  {
   "cell_type": "code",
   "execution_count": 4,
   "metadata": {},
   "outputs": [
    {
     "name": "stdout",
     "output_type": "stream",
     "text": [
      "Total option cost: $-3247.00\n",
      "878\n",
      "1625.0\n",
      "Total opening strategy quantity: 1008.0\n",
      "Total closing strategy quantity: 618.0\n",
      "Opening strategy rows: 544\n",
      "Closing strategy rows: 335\n"
     ]
    }
   ],
   "source": [
    "import pandas as pd\n",
    "\n",
    "# Load your spreadsheet\n",
    "df = pd.read_csv('../output/options_output.csv')\n",
    "\n",
    "# Convert 'order_created_at' to datetime\n",
    "df['order_created_at'] = pd.to_datetime(df['order_created_at'])\n",
    "df['order_created_at'] = df['order_created_at'].dt.strftime('%Y-%m-%d %H:%M:%S')\n",
    "\n",
    "# Filter for the year 2024\n",
    "#df = df[df['order_created_at'].str.startswith('2024')]\n",
    "\n",
    "# Select only the columns we want\n",
    "df = df[['order_created_at', 'chain_symbol', 'expiration_date', \n",
    "         'strike_price', 'option_type', 'direction', 'order_quantity', \n",
    "         'order_type', 'opening_strategy', 'closing_strategy', 'price', 'processed_quantity']]\n",
    "\n",
    "# Group by 'order_created_at' and aggregate\n",
    "aggregated_df = df.groupby('order_created_at').agg({\n",
    "    'chain_symbol': 'first',\n",
    "    'expiration_date': 'first',\n",
    "    'strike_price': lambda x: list(sorted(x, key=abs, reverse=True)),  # Create a list of strike price\n",
    "    'option_type': 'first',\n",
    "    'direction': 'first',\n",
    "    'opening_strategy': 'first',\n",
    "    'closing_strategy': 'first',\n",
    "    'price': 'first',\n",
    "    'order_quantity': 'first'\n",
    "}).reset_index()\n",
    "\n",
    "# Sort the DataFrame\n",
    "aggregated_df = aggregated_df.sort_values(by=['chain_symbol', 'expiration_date'])\n",
    "\n",
    "# Calculate cost\n",
    "aggregated_df['cost'] = aggregated_df['price'] * aggregated_df['order_quantity'] * 100\n",
    "\n",
    "# Adjust the cost based on the direction\n",
    "aggregated_df['cost'] = aggregated_df.apply(\n",
    "    lambda x: -x['cost'] if x['direction'] == 'debit' else x['cost'],\n",
    "    axis=1\n",
    ")      \n",
    "\n",
    "total_option_cost = aggregated_df['cost'].sum()\n",
    "print(f\"Total option cost: ${total_option_cost:.2f}\")\n",
    "print(aggregated_df['order_created_at'].count())\n",
    "print(aggregated_df['order_quantity'].sum())\n",
    "\n",
    "# Save the results\n",
    "aggregated_df.to_csv('../output/options_orders_parsed.csv', index=False)\n",
    "\n",
    "# Count rows where 'opening_strategy' is not None\n",
    "total_opening_strategy_count = aggregated_df['opening_strategy'].notna().sum()\n",
    "total_closing_strategy_count = aggregated_df['closing_strategy'].notna().sum()\n",
    "\n",
    "\n",
    "# # Count rows where 'closing_strategy' contains 'spread' or 'iron'\n",
    "# spread_closing_count = df['closing_strategy'].str.contains('spread|iron', case=False, na=False).sum()\n",
    "\n",
    "# # Count rows where 'opening_strategy' contains 'spread' or 'iron'\n",
    "# spread_opening_count = df['opening_strategy'].str.contains('spread|iron', case=False, na=False).sum()\n",
    "\n",
    "# # Count rows where 'closing_strategy' contains 'spread' or 'iron'\n",
    "# non_spread_closing_count = total_closing_strategy_count - spread_closing_count\n",
    "\n",
    "# # Count rows where 'opening_strategy' contains 'spread' or 'iron'\n",
    "# non_spread_opening_count = total_opening_strategy_count - spread_opening_count\n",
    "# Calculate total order quantity for opening_strategy\n",
    "total_opening_quantity = aggregated_df['order_quantity'][aggregated_df['opening_strategy'].notna()].sum()\n",
    "print(f\"Total opening strategy quantity: {total_opening_quantity}\")\n",
    "\n",
    "# Calculate total order quantity for closing_strategy\n",
    "total_closing_quantity = aggregated_df['order_quantity'][aggregated_df['closing_strategy'].notna()].sum()\n",
    "print(f\"Total closing strategy quantity: {total_closing_quantity}\")\n",
    "\n",
    "\n",
    "#Print the counts\n",
    "print(f\"Opening strategy rows: {total_opening_strategy_count}\")\n",
    "print(f\"Closing strategy rows: {total_closing_strategy_count}\")\n",
    "# print(f\"Opening strategy rows with 'spread' or 'iron': {spread_opening_count}\")\n",
    "# print(f\"Closing strategy rows with 'spread' or 'iron': {spread_closing_count}\")\n",
    "# print(f\"Opening strategy rows not with 'spread' or 'iron': {non_spread_opening_count}\")\n",
    "# print(f\"Closing strategy rows not with 'spread' or 'iron': {non_spread_closing_count}\")"
   ]
  },
  {
   "cell_type": "code",
   "execution_count": 59,
   "metadata": {},
   "outputs": [
    {
     "name": "stdout",
     "output_type": "stream",
     "text": [
      "Total cash amount: -36462.64000000001\n"
     ]
    }
   ],
   "source": [
    "# ... existing code ...\n",
    "import pandas as pd\n",
    "import json  # Use json to parse the string representation of lists/dictionaries\n",
    "\n",
    "unique_symbols = aggregated_df['chain_symbol'].unique()\n",
    "total_option_event_cost = 0  # Initialize total cash amount\n",
    "\n",
    "# Create a list to store event data\n",
    "event_data = []\n",
    "raw_event_data = []\n",
    "\n",
    "for symbol in unique_symbols:\n",
    "    events = r.get_events(symbol)  # Fetch events for the symbol\n",
    "    for event in events:\n",
    "        # Ignore rows with total_cash_amount = 0\n",
    "        if float(event['total_cash_amount']) == 0 :\n",
    "            continue\n",
    "        #print(event)\n",
    "        raw_event_data.append(event)\n",
    "        # Append event details to the list\n",
    "        event_data.append({\n",
    "            'created_at': event['created_at'],\n",
    "            'chain_symbol': symbol,\n",
    "            'direction': event['direction'],\n",
    "            'quantity': event['quantity'],\n",
    "            'total_cash_amount': event['total_cash_amount'],\n",
    "            'state': event['state'],\n",
    "            'underlying_price': event['underlying_price']\n",
    "        })\n",
    "        if event['direction'] == 'credit':\n",
    "            total_option_event_cost += float(event['total_cash_amount'])  # Add for exercise\n",
    "        elif event['direction'] == 'debit':\n",
    "            total_option_event_cost -= float(event['total_cash_amount'])  # Subtract for assignment\n",
    "        # if event['type'] == 'exercise':\n",
    "        #     total_option_event_cost += float(event['total_cash_amount'])  # Add for exercise\n",
    "        # elif event['type'] == 'assignment':\n",
    "        #     total_option_event_cost -= float(event['total_cash_amount']) \n",
    "        \n",
    "# Create a DataFrame from the event data\n",
    "events_df = pd.DataFrame(event_data)\n",
    "\n",
    "raw_events_df = pd.DataFrame(raw_event_data)\n",
    "raw_events_df.to_csv('../output/option_events_raw.csv', index=True)\n",
    "# Save the events DataFrame to a new CSV file\n",
    "events_df.to_csv('../output/option_events.csv', index=True)\n",
    "\n",
    "\n",
    "# Print the total cash amount\n",
    "print(f\"Total cash amount: {total_option_event_cost}\")\n"
   ]
  },
  {
   "cell_type": "code",
   "execution_count": 70,
   "metadata": {},
   "outputs": [
    {
     "name": "stdout",
     "output_type": "stream",
     "text": [
      "Total option events 52\n",
      "Total option event credits: 7529537.360000001\n",
      "Total option event debits: -7566000.0\n",
      "Total options exercised: 7540137.360000001\n",
      "Total options assigned: -7555400.0\n",
      " exercise + assignment -15262.639999998733\n",
      " credits + debits -36462.63999999873\n",
      " exercised - credits 10600.0\n",
      " assigned - debits 10600.0\n"
     ]
    }
   ],
   "source": [
    "# ... existing code ...\n",
    "import pandas as pd\n",
    "import json  # Use json to parse the string representation of lists/dictionaries\n",
    "\n",
    "unique_symbols = aggregated_df['chain_symbol'].unique()\n",
    "total_option_credits = 0\n",
    "total_option_debits = 0\n",
    "total_option_exercise = 0 \n",
    "total_option_assignment = 0  \n",
    "\n",
    "# Read the raw event data correctly\n",
    "raw_event_data = pd.read_csv('../output/option_events_raw.csv')\n",
    "\n",
    "\n",
    "# Create a list to store event data\n",
    "event_data = []\n",
    "\n",
    "# Iterate over the DataFrame rows\n",
    "for index, event in raw_event_data.iterrows():  \n",
    "    event_data.append({\n",
    "        # 'symbol': event['equity_components']['symbol'],\n",
    "        # 'price': event['equity_components']['price'],\n",
    "        # 'quantity': event['equity_components']['quantity'],\n",
    "        # 'side': event['equity_components']['side'],\n",
    "        'created_at': event['created_at'],\n",
    "        'direction': event['direction'],\n",
    "        'quantity': event['quantity'],\n",
    "        'total_cash_amount': event['total_cash_amount'],\n",
    "        'state': event['state'],\n",
    "        'underlying_price': event['underlying_price']\n",
    "    })\n",
    "    if event['direction'] == 'credit' and event['source_ref_id'] :\n",
    "        total_option_credits += float(event['total_cash_amount'])  # Add for exercise\n",
    "    elif event['direction'] == 'debit' and event['source_ref_id'] != '' :\n",
    "        total_option_debits -= float(event['total_cash_amount'])  # Subtract for assignment\n",
    "    \n",
    "    if event['type'] == 'exercise':\n",
    "        total_option_exercise += float(event['total_cash_amount'])  # Add for exercise\n",
    "    elif event['type'] == 'assignment':\n",
    "        total_option_assignment -= float(event['total_cash_amount']) \n",
    "    \n",
    "# Create a DataFrame from the event data\n",
    "events_df = pd.DataFrame(event_data)\n",
    "# Save the events DataFrame to a new CSV file\n",
    "events_df.to_csv('../output/option_events.csv', index=True)\n",
    "# Print the total cash amount\n",
    "print(f\"Total option events {len(events_df)}\")\n",
    "print(f\"Total option event credits: {total_option_credits}\")\n",
    "print(f\"Total option event debits: {total_option_debits}\")\n",
    "print(f\"Total options exercised: {total_option_exercise}\")\n",
    "print(f\"Total options assigned: {total_option_assignment}\")\n",
    "\n",
    "print(f\" exercise + assignment {total_option_exercise + total_option_assignment}\")\n",
    "print(f\" credits + debits {total_option_credits + total_option_debits}\")\n",
    "\n",
    "print(f\" exercised - credits {total_option_exercise - total_option_credits}\")\n",
    "print(f\" assigned - debits { total_option_assignment - total_option_debits}\")\n",
    "\n",
    "total_option_event_cost = total_option_exercise - total_option_credits\n"
   ]
  },
  {
   "cell_type": "code",
   "execution_count": 72,
   "metadata": {},
   "outputs": [
    {
     "name": "stdout",
     "output_type": "stream",
     "text": [
      "7353.0\n"
     ]
    }
   ],
   "source": [
    "total =  total_option_cost + total_option_event_cost\n",
    "print(total)"
   ]
  },
  {
   "cell_type": "code",
   "execution_count": null,
   "metadata": {},
   "outputs": [],
   "source": []
  }
 ],
 "metadata": {
  "kernelspec": {
   "display_name": ".venv",
   "language": "python",
   "name": "python3"
  },
  "language_info": {
   "codemirror_mode": {
    "name": "ipython",
    "version": 3
   },
   "file_extension": ".py",
   "mimetype": "text/x-python",
   "name": "python",
   "nbconvert_exporter": "python",
   "pygments_lexer": "ipython3",
   "version": "3.9.6"
  }
 },
 "nbformat": 4,
 "nbformat_minor": 2
}
