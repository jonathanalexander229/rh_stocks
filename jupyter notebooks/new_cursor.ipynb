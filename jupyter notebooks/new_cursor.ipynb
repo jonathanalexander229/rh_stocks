{
 "cells": [
  {
   "cell_type": "code",
   "execution_count": 1,
   "metadata": {},
   "outputs": [
    {
     "name": "stdout",
     "output_type": "stream",
     "text": [
      "Total Realized P&L: $9974.00\n",
      "Total Unrealized P&L: $-8008.00\n",
      "Total P&L: $1966.00\n",
      "\n",
      "All Positions:\n",
      "    chain_symbol expiration_date  strike_price option_type  realized_pl  \\\n",
      "0           AAPL      2019-05-03         202.5         put        786.0   \n",
      "1           AAPL      2019-05-03         205.0         put       -580.0   \n",
      "2           AAPL      2019-05-03         217.5        call          0.0   \n",
      "3           AAPL      2019-05-10         217.5        call         54.0   \n",
      "4           AAPL      2019-08-23         235.0        call          0.0   \n",
      "..           ...             ...           ...         ...          ...   \n",
      "658          VXX      2024-01-19          16.0        call         -7.0   \n",
      "659          WDC      2019-05-10          47.0         put        -96.0   \n",
      "660          WDC      2024-05-03          57.0         put          0.0   \n",
      "661          WFC      2024-06-28          58.0        call         87.0   \n",
      "662         YEXT      2019-05-17          22.5        call        -10.0   \n",
      "\n",
      "     unrealized_pl  is_open  total_quantity  avg_price last_direction  \n",
      "0              0.0    False             4.0      1.965         credit  \n",
      "1              0.0    False             4.0      2.450         credit  \n",
      "2            -92.0     True             2.0      0.460          debit  \n",
      "3              0.0    False             2.0      1.300          debit  \n",
      "4           -114.0     True             6.0      0.190          debit  \n",
      "..             ...      ...             ...        ...            ...  \n",
      "658            0.0    False             2.0      0.205          debit  \n",
      "659            0.0    False             2.0      0.680          debit  \n",
      "660          -74.0     True             4.0      0.185          debit  \n",
      "661            0.0    False             2.0      1.205          debit  \n",
      "662            0.0    False             4.0      0.575          debit  \n",
      "\n",
      "[663 rows x 10 columns]\n"
     ]
    },
    {
     "name": "stderr",
     "output_type": "stream",
     "text": [
      "/tmp/ipykernel_301237/3024452600.py:41: DeprecationWarning: DataFrameGroupBy.apply operated on the grouping columns. This behavior is deprecated, and in a future version of pandas the grouping columns will be excluded from the operation. Either pass `include_groups=False` to exclude the groupings or explicitly select the grouping columns after groupby to silence this warning.\n",
      "  .apply(calculate_position_pl) \\\n"
     ]
    }
   ],
   "source": [
    "import pandas as pd\n",
    "\n",
    "# Load your spreadsheet\n",
    "df = pd.read_csv('../output/options_output.csv')\n",
    "\n",
    "# Convert 'order_created_at' to datetime\n",
    "df['order_created_at'] = pd.to_datetime(df['order_created_at'])\n",
    "\n",
    "# Calculate the cost for each order\n",
    "df['cost'] = df['price'] * df['processed_quantity'] * 100\n",
    "\n",
    "# Determine if an order is opening or closing\n",
    "df['is_opening'] = df['opening_strategy'].notna()\n",
    "\n",
    "# Calculate the impact on P&L for each trade\n",
    "df['pl_impact'] = df.apply(lambda row: \n",
    "    row['cost'] if row['direction'] == 'credit' else -row['cost'], axis=1)\n",
    "\n",
    "# Calculate realized and unrealized P&L\n",
    "def calculate_position_pl(group):\n",
    "    opening_trades = group[group['is_opening']]\n",
    "    closing_trades = group[~group['is_opening']]\n",
    "    \n",
    "    opening_pl = opening_trades['pl_impact'].sum()\n",
    "    closing_pl = closing_trades['pl_impact'].sum()\n",
    "    \n",
    "    realized_pl = opening_pl + closing_pl if len(closing_trades) > 0 else 0\n",
    "    unrealized_pl = opening_pl if len(closing_trades) == 0 else 0\n",
    "    \n",
    "    return pd.Series({\n",
    "        'realized_pl': realized_pl,\n",
    "        'unrealized_pl': unrealized_pl,\n",
    "        'is_open': len(closing_trades) == 0,\n",
    "        'total_quantity': group['processed_quantity'].sum(),\n",
    "        'avg_price': (group['price'] * group['processed_quantity']).sum() / group['processed_quantity'].sum(),\n",
    "        'last_direction': group['direction'].iloc[-1]\n",
    "    })\n",
    "\n",
    "# Group by unique option identifiers and calculate P&L\n",
    "result = df.groupby(['chain_symbol', 'expiration_date', 'strike_price', 'option_type']) \\\n",
    "           .apply(calculate_position_pl) \\\n",
    "           .reset_index()\n",
    "\n",
    "total_realized_pl = result['realized_pl'].sum()\n",
    "total_unrealized_pl = result['unrealized_pl'].sum()\n",
    "\n",
    "print(f\"Total Realized P&L: ${total_realized_pl:.2f}\")\n",
    "print(f\"Total Unrealized P&L: ${total_unrealized_pl:.2f}\")\n",
    "print(f\"Total P&L: ${(total_realized_pl + total_unrealized_pl):.2f}\")\n",
    "\n",
    "# Show all positions with additional details\n",
    "print(\"\\nAll Positions:\")\n",
    "print(result[['chain_symbol', 'expiration_date', 'strike_price', 'option_type', \n",
    "              'realized_pl', 'unrealized_pl', 'is_open', 'total_quantity', 'avg_price', 'last_direction']])\n",
    "\n",
    "# Export results\n",
    "result.to_csv('../output/processed_option_orders.csv', index=False)"
   ]
  }
 ],
 "metadata": {
  "kernelspec": {
   "display_name": ".venv",
   "language": "python",
   "name": "python3"
  },
  "language_info": {
   "codemirror_mode": {
    "name": "ipython",
    "version": 3
   },
   "file_extension": ".py",
   "mimetype": "text/x-python",
   "name": "python",
   "nbconvert_exporter": "python",
   "pygments_lexer": "ipython3",
   "version": "3.10.12"
  }
 },
 "nbformat": 4,
 "nbformat_minor": 2
}
