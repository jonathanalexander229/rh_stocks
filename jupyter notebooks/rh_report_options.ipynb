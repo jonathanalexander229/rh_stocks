{
 "cells": [
  {
   "cell_type": "markdown",
   "metadata": {},
   "source": [
    "rh_statement.csv is a robinhood report that can be downloaded from the account page.  Here we will parse the report and identify the options, stock, optione_events, deposits and withdrawals."
   ]
  },
  {
   "cell_type": "code",
   "execution_count": 63,
   "metadata": {},
   "outputs": [
    {
     "name": "stdout",
     "output_type": "stream",
     "text": [
      "Earliest Activity Date: 2018-11-12 00:00:00\n",
      "Current Balance: $564.98\n",
      " option event count 13\n",
      "Total Interest Paid $42.42\n",
      "Total Gold Subscription cost $-65.00\n",
      "Total Stock cost $3426.80\n",
      "Total Options cost $-2089.24\n",
      "Total Option Events cost $-9115.66\n",
      "Total Equities cost $-7778.10\n",
      "Total ACH Deposits: $19995.61\n",
      "Total ACH Withdrawals: $-14998.61\n",
      "Total ACH transactions: $4997.00\n"
     ]
    }
   ],
   "source": [
    "import pandas as pd\n",
    "\n",
    "# Load the CSV file into a DataFrame\n",
    "df = pd.read_csv('../output/rh_statement.csv', on_bad_lines='skip')\n",
    "\n",
    "# Ensure 'Activity Date' is in datetime format\n",
    "df['Activity Date'] = pd.to_datetime(df['Activity Date'], errors='coerce')\n",
    "\n",
    "# Find the earliest Activity Date\n",
    "earliest_activity_date = df['Activity Date'].min()\n",
    "\n",
    "print(f'Earliest Activity Date: {earliest_activity_date}')\n",
    "\n",
    "# Clean the 'Amount' column and convert to float\n",
    "def clean_amount(row):\n",
    "    amount_str = str(row['Amount']).replace('$', '').replace(',', '').strip()  # Clean the amount\n",
    "    if amount_str == \"\":  # Check for empty string\n",
    "        return 0.0 \n",
    "    if '(' in amount_str:  # Check for debit\n",
    "        amount_str = amount_str.replace('(', '').replace(')', '')  # Remove parentheses\n",
    "        return -float(amount_str)  # Return negative for debits\n",
    "    else:\n",
    "        return float(amount_str)  # Return positive for credits\n",
    "\n",
    "#Apply the function to clean the 'Amount' column\n",
    "df['Amount'] = df.apply(clean_amount, axis=1)\n",
    "current_balance = df['Amount'].sum() \n",
    "print(f'Current Balance: ${current_balance:.2f}') \n",
    "\n",
    "# Sum the amounts for rows with \"ACH\" in the 'Description' column\n",
    "ach_rows = df[df['Description'].str.contains('ACH', na=False)]\n",
    "ach_total = ach_rows['Amount'].sum()\n",
    "\n",
    "# Sum the amounts for rows with \"ACH\" in the 'Description' column\n",
    "option_rows = df[df['Description'].str.contains('Call|Put', na=False)]\n",
    "option_total = option_rows['Amount'].sum()\n",
    "\n",
    "# Sum the amounts for rows with \"ACH\" in the 'Description' column\n",
    "option_event_rows = df[df['Description'].str.contains('Assigned|Exercised', na=False)]\n",
    "print(f\" option event count {len(option_event_rows)}\")\n",
    "option_event_total = option_event_rows['Amount'].sum()\n",
    "\n",
    "stock_rows = df[df['Description'].str.contains('CUSIP', na=False)]\n",
    "stock_rows = stock_rows[~stock_rows['Description'].str.contains('Options', na=False)]\n",
    "stock_total = stock_rows['Amount'].sum()\n",
    "\n",
    "sub_rows = df[df['Description'].str.contains('Subscription', na=False)]\n",
    "sub_total = sub_rows['Amount'].sum()\n",
    "\n",
    "interest_rows = df[df['Description'].str.contains('Interest', na=False)]\n",
    "interest_total = interest_rows['Amount'].sum()\n",
    "\n",
    "#Gold Deposit Boost Payment\n",
    "boost_rows = df[df['Description'].str.contains('Gold Deposit Boost Payment', na=False)]\n",
    "boost_total = boost_rows['Amount'].sum()\n",
    "\n",
    "# print(f'Gold Boost Paid ${boost_total:.2f}')\n",
    "print(f'Total Interest Paid ${interest_total:.2f}')\n",
    "print(f'Total Gold Subscription cost ${sub_total:.2f}')\n",
    "print(f'Total Stock cost ${stock_total:.2f}')\n",
    "print(f'Total Options cost ${option_total:.2f}')\n",
    "print(f'Total Option Events cost ${option_event_total:.2f}')\n",
    "print(f'Total Equities cost ${stock_total + option_total + option_event_total:.2f}')\n",
    "\n",
    "# Calculate total ACH deposits and withdrawals\n",
    "ach_deposits = ach_rows[ach_rows['Amount'] > 0]['Amount'].sum()  # Total deposits\n",
    "ach_withdrawals = ach_rows[ach_rows['Amount'] < 0]['Amount'].sum()  # Total withdrawals\n",
    "\n",
    "print(f'Total ACH Deposits: ${ach_deposits:.2f}')\n",
    "print(f'Total ACH Withdrawals: ${ach_withdrawals:.2f}')\n",
    "print(f'Total ACH transactions: ${ach_total:.2f}')\n",
    "\n",
    "# Filter for rows with 'Activity Date' in the year 2024\n",
    "# df_2024 = ach_rows[ach_rows['Activity Date'].dt.year == 2024]\n",
    "# total_2024_amount = df_2024['Amount'].sum()\n",
    "# #print(df_2024['Amount'])\n",
    "# print(f'Total Amount for the year 2024: ${total_2024_amount:.2f}')\n",
    "\n",
    "# Save the resulting DataFrame to a new CSV file\n",
    "#ach_rows.to_csv('../output/ach_transactions.csv', index=False)"
   ]
  }
 ],
 "metadata": {
  "kernelspec": {
   "display_name": ".venv",
   "language": "python",
   "name": "python3"
  },
  "language_info": {
   "codemirror_mode": {
    "name": "ipython",
    "version": 3
   },
   "file_extension": ".py",
   "mimetype": "text/x-python",
   "name": "python",
   "nbconvert_exporter": "python",
   "pygments_lexer": "ipython3",
   "version": "3.9.6"
  }
 },
 "nbformat": 4,
 "nbformat_minor": 2
}
