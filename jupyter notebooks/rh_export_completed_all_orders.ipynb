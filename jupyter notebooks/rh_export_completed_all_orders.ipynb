{
 "cells": [
  {
   "cell_type": "markdown",
   "metadata": {},
   "source": [
    "This notebook will use the robin_stocks.robinhood.export functions which write all orders to a csv file.  We will do this for stock, options and crypto orders"
   ]
  },
  {
   "cell_type": "markdown",
   "metadata": {},
   "source": [
    "Install the required libraries"
   ]
  },
  {
   "cell_type": "code",
   "execution_count": 5,
   "metadata": {},
   "outputs": [
    {
     "name": "stdout",
     "output_type": "stream",
     "text": [
      "Requirement already satisfied: robin_stocks in /Users/clutchcoder/working/venv/lib/python3.9/site-packages (3.0.6)\n",
      "Requirement already satisfied: pandas in /Users/clutchcoder/working/venv/lib/python3.9/site-packages (2.2.1)\n",
      "Requirement already satisfied: numpy in /Users/clutchcoder/working/venv/lib/python3.9/site-packages (1.26.4)\n",
      "Requirement already satisfied: ipykernel in /Users/clutchcoder/working/venv/lib/python3.9/site-packages (6.29.3)\n",
      "Requirement already satisfied: requests in /Users/clutchcoder/working/venv/lib/python3.9/site-packages (from robin_stocks) (2.31.0)\n",
      "Requirement already satisfied: pyotp in /Users/clutchcoder/working/venv/lib/python3.9/site-packages (from robin_stocks) (2.9.0)\n",
      "Requirement already satisfied: python-dotenv in /Users/clutchcoder/working/venv/lib/python3.9/site-packages (from robin_stocks) (1.0.1)\n",
      "Requirement already satisfied: cryptography in /Users/clutchcoder/working/venv/lib/python3.9/site-packages (from robin_stocks) (42.0.5)\n",
      "Requirement already satisfied: python-dateutil>=2.8.2 in /Users/clutchcoder/working/venv/lib/python3.9/site-packages (from pandas) (2.9.0.post0)\n",
      "Requirement already satisfied: pytz>=2020.1 in /Users/clutchcoder/working/venv/lib/python3.9/site-packages (from pandas) (2024.1)\n",
      "Requirement already satisfied: tzdata>=2022.7 in /Users/clutchcoder/working/venv/lib/python3.9/site-packages (from pandas) (2024.1)\n",
      "Requirement already satisfied: appnope in /Users/clutchcoder/working/venv/lib/python3.9/site-packages (from ipykernel) (0.1.4)\n",
      "Requirement already satisfied: comm>=0.1.1 in /Users/clutchcoder/working/venv/lib/python3.9/site-packages (from ipykernel) (0.2.2)\n",
      "Requirement already satisfied: debugpy>=1.6.5 in /Users/clutchcoder/working/venv/lib/python3.9/site-packages (from ipykernel) (1.8.1)\n",
      "Requirement already satisfied: ipython>=7.23.1 in /Users/clutchcoder/working/venv/lib/python3.9/site-packages (from ipykernel) (8.18.1)\n",
      "Requirement already satisfied: jupyter-client>=6.1.12 in /Users/clutchcoder/working/venv/lib/python3.9/site-packages (from ipykernel) (8.6.1)\n",
      "Requirement already satisfied: jupyter-core!=5.0.*,>=4.12 in /Users/clutchcoder/working/venv/lib/python3.9/site-packages (from ipykernel) (5.7.2)\n",
      "Requirement already satisfied: matplotlib-inline>=0.1 in /Users/clutchcoder/working/venv/lib/python3.9/site-packages (from ipykernel) (0.1.6)\n",
      "Requirement already satisfied: nest-asyncio in /Users/clutchcoder/working/venv/lib/python3.9/site-packages (from ipykernel) (1.6.0)\n",
      "Requirement already satisfied: packaging in /Users/clutchcoder/working/venv/lib/python3.9/site-packages (from ipykernel) (24.0)\n",
      "Requirement already satisfied: psutil in /Users/clutchcoder/working/venv/lib/python3.9/site-packages (from ipykernel) (5.9.8)\n",
      "Requirement already satisfied: pyzmq>=24 in /Users/clutchcoder/working/venv/lib/python3.9/site-packages (from ipykernel) (25.1.2)\n",
      "Requirement already satisfied: tornado>=6.1 in /Users/clutchcoder/working/venv/lib/python3.9/site-packages (from ipykernel) (6.4)\n",
      "Requirement already satisfied: traitlets>=5.4.0 in /Users/clutchcoder/working/venv/lib/python3.9/site-packages (from ipykernel) (5.14.2)\n",
      "Requirement already satisfied: decorator in /Users/clutchcoder/working/venv/lib/python3.9/site-packages (from ipython>=7.23.1->ipykernel) (5.1.1)\n",
      "Requirement already satisfied: jedi>=0.16 in /Users/clutchcoder/working/venv/lib/python3.9/site-packages (from ipython>=7.23.1->ipykernel) (0.19.1)\n",
      "Requirement already satisfied: prompt-toolkit<3.1.0,>=3.0.41 in /Users/clutchcoder/working/venv/lib/python3.9/site-packages (from ipython>=7.23.1->ipykernel) (3.0.43)\n",
      "Requirement already satisfied: pygments>=2.4.0 in /Users/clutchcoder/working/venv/lib/python3.9/site-packages (from ipython>=7.23.1->ipykernel) (2.17.2)\n",
      "Requirement already satisfied: stack-data in /Users/clutchcoder/working/venv/lib/python3.9/site-packages (from ipython>=7.23.1->ipykernel) (0.6.3)\n",
      "Requirement already satisfied: typing-extensions in /Users/clutchcoder/working/venv/lib/python3.9/site-packages (from ipython>=7.23.1->ipykernel) (4.10.0)\n",
      "Requirement already satisfied: exceptiongroup in /Users/clutchcoder/working/venv/lib/python3.9/site-packages (from ipython>=7.23.1->ipykernel) (1.2.0)\n",
      "Requirement already satisfied: pexpect>4.3 in /Users/clutchcoder/working/venv/lib/python3.9/site-packages (from ipython>=7.23.1->ipykernel) (4.9.0)\n",
      "Requirement already satisfied: importlib-metadata>=4.8.3 in /Users/clutchcoder/working/venv/lib/python3.9/site-packages (from jupyter-client>=6.1.12->ipykernel) (7.0.2)\n",
      "Requirement already satisfied: platformdirs>=2.5 in /Users/clutchcoder/working/venv/lib/python3.9/site-packages (from jupyter-core!=5.0.*,>=4.12->ipykernel) (4.2.0)\n",
      "Requirement already satisfied: six>=1.5 in /Users/clutchcoder/working/venv/lib/python3.9/site-packages (from python-dateutil>=2.8.2->pandas) (1.16.0)\n",
      "Requirement already satisfied: cffi>=1.12 in /Users/clutchcoder/working/venv/lib/python3.9/site-packages (from cryptography->robin_stocks) (1.16.0)\n",
      "Requirement already satisfied: charset-normalizer<4,>=2 in /Users/clutchcoder/working/venv/lib/python3.9/site-packages (from requests->robin_stocks) (3.3.2)\n",
      "Requirement already satisfied: idna<4,>=2.5 in /Users/clutchcoder/working/venv/lib/python3.9/site-packages (from requests->robin_stocks) (3.6)\n",
      "Requirement already satisfied: urllib3<3,>=1.21.1 in /Users/clutchcoder/working/venv/lib/python3.9/site-packages (from requests->robin_stocks) (1.26.6)\n",
      "Requirement already satisfied: certifi>=2017.4.17 in /Users/clutchcoder/working/venv/lib/python3.9/site-packages (from requests->robin_stocks) (2024.2.2)\n",
      "Requirement already satisfied: pycparser in /Users/clutchcoder/working/venv/lib/python3.9/site-packages (from cffi>=1.12->cryptography->robin_stocks) (2.21)\n",
      "Requirement already satisfied: zipp>=0.5 in /Users/clutchcoder/working/venv/lib/python3.9/site-packages (from importlib-metadata>=4.8.3->jupyter-client>=6.1.12->ipykernel) (3.18.1)\n",
      "Requirement already satisfied: parso<0.9.0,>=0.8.3 in /Users/clutchcoder/working/venv/lib/python3.9/site-packages (from jedi>=0.16->ipython>=7.23.1->ipykernel) (0.8.3)\n",
      "Requirement already satisfied: ptyprocess>=0.5 in /Users/clutchcoder/working/venv/lib/python3.9/site-packages (from pexpect>4.3->ipython>=7.23.1->ipykernel) (0.7.0)\n",
      "Requirement already satisfied: wcwidth in /Users/clutchcoder/working/venv/lib/python3.9/site-packages (from prompt-toolkit<3.1.0,>=3.0.41->ipython>=7.23.1->ipykernel) (0.2.13)\n",
      "Requirement already satisfied: executing>=1.2.0 in /Users/clutchcoder/working/venv/lib/python3.9/site-packages (from stack-data->ipython>=7.23.1->ipykernel) (2.0.1)\n",
      "Requirement already satisfied: asttokens>=2.1.0 in /Users/clutchcoder/working/venv/lib/python3.9/site-packages (from stack-data->ipython>=7.23.1->ipykernel) (2.4.1)\n",
      "Requirement already satisfied: pure-eval in /Users/clutchcoder/working/venv/lib/python3.9/site-packages (from stack-data->ipython>=7.23.1->ipykernel) (0.2.2)\n",
      "\n",
      "\u001b[1m[\u001b[0m\u001b[34;49mnotice\u001b[0m\u001b[1;39;49m]\u001b[0m\u001b[39;49m A new release of pip is available: \u001b[0m\u001b[31;49m24.0\u001b[0m\u001b[39;49m -> \u001b[0m\u001b[32;49m24.2\u001b[0m\n",
      "\u001b[1m[\u001b[0m\u001b[34;49mnotice\u001b[0m\u001b[1;39;49m]\u001b[0m\u001b[39;49m To update, run: \u001b[0m\u001b[32;49mpip install --upgrade pip\u001b[0m\n",
      "Note: you may need to restart the kernel to use updated packages.\n"
     ]
    }
   ],
   "source": [
    "%pip install robin_stocks pandas numpy ipykernel"
   ]
  },
  {
   "cell_type": "markdown",
   "metadata": {},
   "source": [
    "Log on to the robinhood API endpoint, and create the output directory if it doesn't exist"
   ]
  },
  {
   "cell_type": "code",
   "execution_count": 7,
   "metadata": {},
   "outputs": [],
   "source": [
    "import robin_stocks.robinhood as r\n",
    "import pandas as pd\n",
    "import os  \n",
    "# Prompt for email address\n",
    "email = input(\"Please enter your Robinhood email address: \")\n",
    "\n",
    "login = r.login(email)\n",
    "\n",
    "# Ensure the output directory exists\n",
    "output_dir = '../output'\n",
    "if not os.path.exists(output_dir):\n",
    "    os.makedirs(output_dir) \n"
   ]
  },
  {
   "cell_type": "markdown",
   "metadata": {},
   "source": [
    "Now that we are logged in lets get all the stock orders"
   ]
  },
  {
   "cell_type": "code",
   "execution_count": 9,
   "metadata": {},
   "outputs": [
    {
     "name": "stdout",
     "output_type": "stream",
     "text": [
      "Found Additional pages.\n",
      "Loading page 2 ...\n",
      "Loading page 3 ...\n"
     ]
    }
   ],
   "source": [
    "# # Get all stock orders\n",
    "\n",
    "r.export_completed_stock_orders('/', file_name='../output/stock_output.csv')"
   ]
  },
  {
   "cell_type": "markdown",
   "metadata": {},
   "source": [
    "Now that we have the stock orders lets parse them, caclute cost of each order, and sum up the total for cumulative stock profit and loss.  Stock buys will be updated with a negative cost and sells will be a positive cost.   For example I buy 10 shares of AMD for $10 a share, this will cost me $100 and will reduce my balance by that much.  Then if I decide to sell my 10 AMD shares and get filled at $11 share for a total of $110, which will be added to my balance.  The total P&L for that trade would be +$10 since I sold the position for $10 more than I paid for it.  Conversly if I sold the 10 AMD and got filled at $9 a share for a total of $90, which will be added back to my cash balance.  The total P&L for this trade would be -$10 since I sold the position for $10 less than I paid for it.\n",
    "\n",
    "This may have option exercise events in it, which we will need to account for in the total P&L. We will need to account for these events in the total P&L calculation.  THis may require pulling historical option pricing data and calculating the P&L based on the bid/ask at the time of the event.  This is not completed yet."
   ]
  },
  {
   "cell_type": "code",
   "execution_count": 16,
   "metadata": {},
   "outputs": [
    {
     "name": "stdout",
     "output_type": "stream",
     "text": [
      "3296.7660999999985\n"
     ]
    }
   ],
   "source": [
    "import pandas as pd\n",
    "\n",
    "# Load your spreadsheet\n",
    "df = pd.read_csv('../output/stock_output.csv')\n",
    "\n",
    "# Convert the 'date' column to datetime\n",
    "df['date'] = pd.to_datetime(df['date'],  errors='coerce', utc=True)\n",
    "\n",
    "#df = df[df['date'] >= '2019-02-12']\n",
    "\n",
    "# Sort the DataFrame based on the date column\n",
    "df = df.sort_values(by=['symbol','date'])\n",
    "\n",
    "# Assuming 'quantity', 'average_price', and 'type' columns exist\n",
    "df['cost'] = df['quantity'] * df['average_price']\n",
    "\n",
    "# Adjust the cost based on the type of order\n",
    "df.loc[df['side'] == 'buy', 'cost'] *= -1\n",
    "\n",
    "# print(df)\n",
    "total_stock_cost = df['cost'].sum()\n",
    "print(total_stock_cost)\n",
    "\n",
    "df.to_csv('../output/processed_stock_orders.csv', index=False)\n"
   ]
  },
  {
   "cell_type": "markdown",
   "metadata": {},
   "source": [
    "Now lets get all crypto orders"
   ]
  },
  {
   "cell_type": "code",
   "execution_count": 8,
   "metadata": {},
   "outputs": [],
   "source": [
    "# # Get all crypto orders\n",
    "r.export_completed_crypto_orders('/', file_name='../output/crypto_output.csv')"
   ]
  },
  {
   "cell_type": "markdown",
   "metadata": {},
   "source": [
    "Now lets do the same thing we did with the stock orders to the crypto orders"
   ]
  },
  {
   "cell_type": "code",
   "execution_count": 17,
   "metadata": {},
   "outputs": [
    {
     "name": "stdout",
     "output_type": "stream",
     "text": [
      "     symbol                             date order_type  side  fees  \\\n",
      "22   BTCUSD 2018-08-05 06:49:50.771000+00:00     market   buy   0.0   \n",
      "21   BTCUSD 2018-08-12 07:49:48.270000+00:00     market  sell   0.0   \n",
      "9    BTCUSD 2023-12-14 15:06:24.232000+00:00     market  sell   0.0   \n",
      "8    BTCUSD 2024-06-24 19:04:34.507719+00:00     market   buy   0.0   \n",
      "7    BTCUSD 2024-07-04 14:30:08.042036+00:00     market   buy   0.0   \n",
      "6    BTCUSD 2024-07-05 02:53:50.275000+00:00      limit   buy   0.0   \n",
      "3    BTCUSD 2024-08-12 23:20:08.899000+00:00     market  sell   0.0   \n",
      "15  DOGEUSD 2018-09-09 02:23:25.038000+00:00     market   buy   0.0   \n",
      "14  DOGEUSD 2018-09-10 16:45:36.039000+00:00     market  sell   0.0   \n",
      "11  DOGEUSD 2018-10-09 11:18:51.460000+00:00     market   buy   0.0   \n",
      "10  DOGEUSD 2018-10-09 11:19:30.680000+00:00     market  sell   0.0   \n",
      "34   ETHUSD 2018-06-06 20:23:57.487000+00:00      limit   buy   0.0   \n",
      "33   ETHUSD 2018-06-29 20:23:59.053000+00:00      limit   buy   0.0   \n",
      "32   ETHUSD 2018-06-29 23:11:44.353000+00:00      limit  sell   0.0   \n",
      "31   ETHUSD 2018-06-29 23:18:56.553000+00:00      limit   buy   0.0   \n",
      "30   ETHUSD 2018-07-02 19:47:49.854000+00:00      limit   buy   0.0   \n",
      "29   ETHUSD 2018-07-03 04:36:41.294000+00:00     market   buy   0.0   \n",
      "28   ETHUSD 2018-07-05 05:17:37.495000+00:00      limit   buy   0.0   \n",
      "27   ETHUSD 2018-07-08 02:11:51.893000+00:00     market  sell   0.0   \n",
      "26   ETHUSD 2018-07-10 21:17:30.079000+00:00      limit   buy   0.0   \n",
      "25   ETHUSD 2018-07-17 05:56:19.536000+00:00     market  sell   0.0   \n",
      "24   ETHUSD 2018-07-27 19:25:13.529000+00:00      limit   buy   0.0   \n",
      "23   ETHUSD 2018-08-05 06:49:04.018000+00:00     market   buy   0.0   \n",
      "20   ETHUSD 2018-08-12 07:50:38.976000+00:00      limit   buy   0.0   \n",
      "19   ETHUSD 2018-08-15 16:29:42.145000+00:00     market   buy   0.0   \n",
      "18   ETHUSD 2018-08-15 17:01:41.929000+00:00      limit   buy   0.0   \n",
      "17   ETHUSD 2018-08-15 22:05:42.746000+00:00     market  sell   0.0   \n",
      "16   ETHUSD 2018-09-08 02:37:14.736000+00:00     market   buy   0.0   \n",
      "13   ETHUSD 2018-09-16 10:24:31.143000+00:00     market   buy   0.0   \n",
      "12   ETHUSD 2018-10-05 14:17:23.669000+00:00     market  sell   0.0   \n",
      "5    ETHUSD 2024-07-08 11:15:56.418578+00:00     market   buy   0.0   \n",
      "4    ETHUSD 2024-07-21 18:36:39.431567+00:00     market   buy   0.0   \n",
      "2    ETHUSD 2024-08-12 23:20:29.634000+00:00     market   buy   0.0   \n",
      "1    ETHUSD 2024-08-19 17:56:39.479000+00:00     market  sell   0.0   \n",
      "0    ETHUSD 2024-08-19 19:01:44.782000+00:00     market  sell   0.0   \n",
      "\n",
      "       quantity  average_price         cost  \n",
      "22     0.004579    6987.690000   -31.999987  \n",
      "21     0.004579    6321.940000    28.951198  \n",
      "9      0.000024   42511.330000     1.029624  \n",
      "8      0.000500   60608.398351   -30.304199  \n",
      "7      0.001747   57220.160459   -99.978498  \n",
      "6      0.001757   56845.167682   -99.903108  \n",
      "3      0.004005   59396.110000   237.870729  \n",
      "15  7819.000000       0.005755   -44.998345  \n",
      "14  7819.000000       0.006317    49.392623  \n",
      "11  1421.000000       0.005629    -7.998809  \n",
      "10  1421.000000       0.005557     7.896497  \n",
      "34     0.372106     596.350000  -221.905413  \n",
      "33     1.324056     414.210000  -548.437236  \n",
      "32     1.696162     432.800000   734.098914  \n",
      "31     1.684114     437.840000  -737.372474  \n",
      "30     0.017238     477.950000    -8.238902  \n",
      "29     0.309099     485.280000  -149.999563  \n",
      "28     0.019064     474.180000    -9.039768  \n",
      "27     2.029515     482.220000   978.672723  \n",
      "26     2.547787     443.000000 -1128.669641  \n",
      "25     2.547787     471.270000  1200.695579  \n",
      "24     0.024702     469.190000   -11.589931  \n",
      "23     1.001032     406.800000  -407.219818  \n",
      "20     0.091145     326.320000   -29.742436  \n",
      "19     0.997646     301.700000  -300.989798  \n",
      "18     0.063407     304.950000   -19.335965  \n",
      "17     1.135074     290.730000   330.000064  \n",
      "16     1.002186     219.520000  -219.999871  \n",
      "13     0.091203     219.290000   -19.999906  \n",
      "12     2.136247     221.480000   473.135986  \n",
      "5      0.065455    3054.616529  -199.939925  \n",
      "4      0.028648    3489.673250   -99.972159  \n",
      "2      0.072434    2761.040762  -199.993227  \n",
      "1      0.057809    2594.905740   150.008906  \n",
      "0      0.108728    2594.100264   282.051334  \n",
      "-153.82480036979769\n"
     ]
    }
   ],
   "source": [
    "import pandas as pd\n",
    "\n",
    "# Load your spreadsheet\n",
    "df = pd.read_csv('../output/crypto_output.csv')\n",
    "\n",
    "# Convert the 'date' column to datetime\n",
    "df['date'] = pd.to_datetime(df['date'],  errors='coerce', utc=True)\n",
    "\n",
    "#df = df[df['date'] >= '2019-02-12']\n",
    "\n",
    "# Sort the DataFrame based on the date column\n",
    "df = df.sort_values(by=['symbol','date'])\n",
    "\n",
    "# Assuming 'quantity', 'average_price', and 'type' columns exist\n",
    "df['cost'] = df['quantity'] * df['average_price']\n",
    "\n",
    "# Adjust the cost based on the type of order\n",
    "df.loc[df['side'] == 'buy', 'cost'] *= -1\n",
    "\n",
    "print(df)\n",
    "total_crypto_cost = df['cost'].sum()\n",
    "print(total_crypto_cost)\n",
    "\n",
    "df.to_csv('../output/processed_crypto_orders.csv', index=False)\n"
   ]
  },
  {
   "cell_type": "markdown",
   "metadata": {},
   "source": [
    "Now lets get all the options orders."
   ]
  },
  {
   "cell_type": "code",
   "execution_count": 21,
   "metadata": {},
   "outputs": [
    {
     "name": "stdout",
     "output_type": "stream",
     "text": [
      "Found Additional pages.\n",
      "Loading page 2 ...\n",
      "Loading page 3 ...\n",
      "Loading page 4 ...\n",
      "Loading page 5 ...\n",
      "Loading page 6 ...\n",
      "Loading page 7 ...\n"
     ]
    }
   ],
   "source": [
    "# # Get all option orders\n",
    "r.export_completed_option_orders('/', file_name='../output/options_output.csv')"
   ]
  },
  {
   "cell_type": "markdown",
   "metadata": {},
   "source": [
    "This groups spread order by order_created_at and then calculates total cost based on debit and credit direction.  Spreads orders show up multiple time (number of legs) with the total price and quantity listed on each order, so we group them and only sum them up once per opening and closing spread order"
   ]
  },
  {
   "cell_type": "code",
   "execution_count": 22,
   "metadata": {},
   "outputs": [
    {
     "name": "stdout",
     "output_type": "stream",
     "text": [
      "Total option cost: $-3247.00\n",
      "Total opening strategy quantity: 1008.0\n",
      "Total closing strategy quantity: 618.0\n",
      "Opening strategy rows: 544\n",
      "Closing strategy rows: 335\n"
     ]
    }
   ],
   "source": [
    "import pandas as pd\n",
    "\n",
    "# Load your spreadsheet\n",
    "df = pd.read_csv('../output/options_output.csv')\n",
    "\n",
    "# Convert 'order_created_at' to datetime\n",
    "df['order_created_at'] = pd.to_datetime(df['order_created_at'])\n",
    "df['order_created_at'] = df['order_created_at'].dt.strftime('%Y-%m-%d %H:%M:%S')\n",
    "\n",
    "# Filter for the year 2024\n",
    "#df = df[df['order_created_at'].str.startswith('2024')]\n",
    "\n",
    "# Select only the columns we want\n",
    "df = df[['order_created_at', 'chain_symbol', 'expiration_date', \n",
    "         'strike_price', 'option_type', 'direction', 'order_quantity', \n",
    "         'order_type', 'opening_strategy', 'closing_strategy', 'price', 'processed_quantity']]\n",
    "\n",
    "# Group by 'order_created_at' and aggregate\n",
    "aggregated_df = df.groupby('order_created_at').agg({\n",
    "    'chain_symbol': 'first',\n",
    "    'expiration_date': 'first',\n",
    "    'strike_price': lambda x: list(sorted(x, key=abs, reverse=True)),  # Create a list of strike price\n",
    "    'option_type': 'first',\n",
    "    'direction': 'first',\n",
    "    'opening_strategy': 'first',\n",
    "    'closing_strategy': 'first',\n",
    "    'price': 'first',\n",
    "    'order_quantity': 'first'\n",
    "}).reset_index()\n",
    "\n",
    "# Sort the DataFrame\n",
    "aggregated_df = aggregated_df.sort_values(by=['chain_symbol', 'expiration_date'])\n",
    "\n",
    "# Calculate cost\n",
    "aggregated_df['cost'] = aggregated_df['price'] * aggregated_df['order_quantity'] * 100\n",
    "\n",
    "# Adjust the cost based on the direction\n",
    "aggregated_df['cost'] = aggregated_df.apply(\n",
    "    lambda x: -x['cost'] if x['direction'] == 'debit' else x['cost'],\n",
    "    axis=1\n",
    ")      \n",
    "\n",
    "total_option_cost = aggregated_df['cost'].sum()\n",
    "print(f\"Total option cost: ${total_option_cost:.2f}\")\n",
    "# print(aggregated_df['order_created_at'].count())\n",
    "# print(aggregated_df['order_quantity'].sum())\n",
    "\n",
    "# Save the results\n",
    "aggregated_df.to_csv('../output/options_orders_parsed.csv', index=False)\n",
    "\n",
    "# Count rows where 'opening_strategy' is not None\n",
    "total_opening_strategy_count = aggregated_df['opening_strategy'].notna().sum()\n",
    "total_closing_strategy_count = aggregated_df['closing_strategy'].notna().sum()\n",
    "\n",
    "\n",
    "# # Count rows where 'closing_strategy' contains 'spread' or 'iron'\n",
    "# spread_closing_count = df['closing_strategy'].str.contains('spread|iron', case=False, na=False).sum()\n",
    "\n",
    "# # Count rows where 'opening_strategy' contains 'spread' or 'iron'\n",
    "# spread_opening_count = df['opening_strategy'].str.contains('spread|iron', case=False, na=False).sum()\n",
    "\n",
    "# # Count rows where 'closing_strategy' contains 'spread' or 'iron'\n",
    "# non_spread_closing_count = total_closing_strategy_count - spread_closing_count\n",
    "\n",
    "# # Count rows where 'opening_strategy' contains 'spread' or 'iron'\n",
    "# non_spread_opening_count = total_opening_strategy_count - spread_opening_count\n",
    "# Calculate total order quantity for opening_strategy\n",
    "total_opening_quantity = aggregated_df['order_quantity'][aggregated_df['opening_strategy'].notna()].sum()\n",
    "print(f\"Total opening strategy quantity: {total_opening_quantity}\")\n",
    "\n",
    "# Calculate total order quantity for closing_strategy\n",
    "total_closing_quantity = aggregated_df['order_quantity'][aggregated_df['closing_strategy'].notna()].sum()\n",
    "print(f\"Total closing strategy quantity: {total_closing_quantity}\")\n",
    "\n",
    "\n",
    "#Print the counts\n",
    "print(f\"Opening strategy rows: {total_opening_strategy_count}\")\n",
    "print(f\"Closing strategy rows: {total_closing_strategy_count}\")\n",
    "# print(f\"Opening strategy rows with 'spread' or 'iron': {spread_opening_count}\")\n",
    "# print(f\"Closing strategy rows with 'spread' or 'iron': {spread_closing_count}\")\n",
    "# print(f\"Opening strategy rows not with 'spread' or 'iron': {non_spread_opening_count}\")\n",
    "# print(f\"Closing strategy rows not with 'spread' or 'iron': {non_spread_closing_count}\")"
   ]
  },
  {
   "cell_type": "markdown",
   "metadata": {},
   "source": [
    "This gets all the options events for exercise and assignment calculation"
   ]
  },
  {
   "cell_type": "code",
   "execution_count": 59,
   "metadata": {},
   "outputs": [
    {
     "name": "stdout",
     "output_type": "stream",
     "text": [
      "Total cash amount: 7540137.360000001\n"
     ]
    }
   ],
   "source": [
    "# ... existing code ...\n",
    "import pandas as pd\n",
    "import json  # Use json to parse the string representation of lists/dictionaries\n",
    "\n",
    "unique_symbols = aggregated_df['chain_symbol'].unique()\n",
    "total_option_event_cost = 0  # Initialize total cash amount\n",
    "\n",
    "# Create a list to store event data\n",
    "event_data = []\n",
    "\n",
    "for symbol in unique_symbols:\n",
    "    events = r.get_events(symbol)  # Fetch events for the symbol\n",
    "    \n",
    "    for event in events:\n",
    "        # Ignore rows with total_cash_amount = 0\n",
    "        if float(event['total_cash_amount']) == 0 :\n",
    "            continue\n",
    "\n",
    "        # print(event)\n",
    "        # Append event details to the list\n",
    "        event_data.append({\n",
    "            'created_at': event['created_at'],\n",
    "            'chain_symbol': symbol,\n",
    "            'direction': event['direction'],\n",
    "            'type': event['type'],\n",
    "            'quantity': event['quantity'],\n",
    "            'total_cash_amount': event['total_cash_amount'],\n",
    "            'state': event['state'],\n",
    "            'underlying_price': event['underlying_price']\n",
    "        })\n",
    "        if event['type'] == 'exercise':\n",
    "            total_option_event_cost += float(event['total_cash_amount'])  # Add for exercise\n",
    "        elif event['type'] == 'credit':\n",
    "            total_option_event_cost -= float(event['total_cash_amount']) \n",
    "    #     elif event['direction'] == 'credit' and event['type'] == 'assignment':\n",
    "    #         total_option_event_cost -= float(event['total_cash_amount'])  \n",
    "    #     elif event['direction'] == 'debit' and event['type'] == 'exercise':\n",
    "    #         total_option_event_cost += float(event['total_cash_amount'])  # Subtract for assignment\n",
    "\n",
    "    \n",
    "# Create a DataFrame from the event data\n",
    "events_df = pd.DataFrame(event_data)\n",
    "\n",
    "# Save the events DataFrame to a new CSV file\n",
    "events_df.to_csv('../output/option_events.csv', index=True)\n",
    "\n",
    "\n",
    "# Print the total cash amount\n",
    "print(f\"Total cash amount: {total_option_event_cost}\")\n"
   ]
  },
  {
   "cell_type": "code",
   "execution_count": 60,
   "metadata": {},
   "outputs": [
    {
     "name": "stdout",
     "output_type": "stream",
     "text": [
      "Total option events 52\n",
      "Total option event credits: 7529537.360000001\n",
      "Total option event debits: -7566000.0\n",
      "Total options exercised: 7540137.360000001\n",
      "Total options assigned: -7555400.0\n",
      " exercise + assignment -15262.639999998733\n",
      " credits + debits -36462.63999999873\n",
      " exercised - credits 10600.0\n",
      " assigned - debits 10600.0\n"
     ]
    }
   ],
   "source": [
    "# ... existing code ...\n",
    "import pandas as pd\n",
    "import json  # Use json to parse the string representation of lists/dictionaries\n",
    "\n",
    "unique_symbols = aggregated_df['chain_symbol'].unique()\n",
    "total_option_credits = 0\n",
    "total_option_debits = 0\n",
    "total_option_exercise = 0 \n",
    "total_option_assignment = 0  \n",
    "\n",
    "# Read the raw event data correctly\n",
    "raw_event_data = pd.read_csv('../output/option_events_raw.csv')\n",
    "\n",
    "\n",
    "# Create a list to store event data\n",
    "event_data = []\n",
    "\n",
    "# Iterate over the DataFrame rows\n",
    "for index, event in raw_event_data.iterrows():  \n",
    "    event_data.append({\n",
    "        # 'symbol': event['equity_components']['symbol'],\n",
    "        # 'price': event['equity_components']['price'],\n",
    "        # 'quantity': event['equity_components']['quantity'],\n",
    "        # 'side': event['equity_components']['side'],\n",
    "        'created_at': event['created_at'],\n",
    "        'direction': event['direction'],\n",
    "        'quantity': event['quantity'],\n",
    "        'total_cash_amount': event['total_cash_amount'],\n",
    "        'state': event['state'],\n",
    "        'underlying_price': event['underlying_price']\n",
    "    })\n",
    "    if event['direction'] == 'credit' and event['source_ref_id'] :\n",
    "        total_option_credits += float(event['total_cash_amount'])  # Add for exercise\n",
    "    elif event['direction'] == 'debit' and event['source_ref_id'] != '' :\n",
    "        total_option_debits -= float(event['total_cash_amount'])  # Subtract for assignment\n",
    "    \n",
    "    if event['type'] == 'exercise':\n",
    "        total_option_exercise += float(event['total_cash_amount'])  # Add for exercise\n",
    "    elif event['type'] == 'assignment':\n",
    "        total_option_assignment -= float(event['total_cash_amount']) \n",
    "    \n",
    "# Create a DataFrame from the event data\n",
    "events_df = pd.DataFrame(event_data)\n",
    "# Save the events DataFrame to a new CSV file\n",
    "events_df.to_csv('../output/option_events.csv', index=True)\n",
    "# Print the total cash amount\n",
    "print(f\"Total option events {len(events_df)}\")\n",
    "print(f\"Total option event credits: {total_option_credits}\")\n",
    "print(f\"Total option event debits: {total_option_debits}\")\n",
    "print(f\"Total options exercised: {total_option_exercise}\")\n",
    "print(f\"Total options assigned: {total_option_assignment}\")\n",
    "\n",
    "print(f\" exercise + assignment {total_option_exercise + total_option_assignment}\")\n",
    "print(f\" credits + debits {total_option_credits + total_option_debits}\")\n",
    "\n",
    "print(f\" exercised - credits {total_option_exercise - total_option_credits}\")\n",
    "print(f\" assigned - debits { total_option_assignment - total_option_debits}\")\n",
    "\n",
    "total_option_event_cost = total_option_exercise - total_option_credits\n"
   ]
  },
  {
   "cell_type": "code",
   "execution_count": 69,
   "metadata": {},
   "outputs": [
    {
     "name": "stdout",
     "output_type": "stream",
     "text": [
      "Total stock cost: $3296.77\n",
      "Total crypto cost: $-153.82\n",
      "Total option cost: $-3247.00\n",
      "Total option event cost: $10600.00\n"
     ]
    }
   ],
   "source": [
    "print(f\"Total stock cost: ${total_stock_cost:.2f}\")\n",
    "print(f\"Total crypto cost: ${total_crypto_cost:.2f}\")\n",
    "print(f\"Total option cost: ${total_option_cost:.2f}\")\n",
    "print(f\"Total option event cost: ${total_option_event_cost:.2f}\")\n"
   ]
  },
  {
   "cell_type": "code",
   "execution_count": null,
   "metadata": {},
   "outputs": [],
   "source": []
  }
 ],
 "metadata": {
  "kernelspec": {
   "display_name": ".venv",
   "language": "python",
   "name": "python3"
  },
  "language_info": {
   "codemirror_mode": {
    "name": "ipython",
    "version": 3
   },
   "file_extension": ".py",
   "mimetype": "text/x-python",
   "name": "python",
   "nbconvert_exporter": "python",
   "pygments_lexer": "ipython3",
   "version": "3.9.6"
  }
 },
 "nbformat": 4,
 "nbformat_minor": 2
}
